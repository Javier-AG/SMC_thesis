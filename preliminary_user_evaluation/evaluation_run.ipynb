{
 "cells": [
  {
   "cell_type": "code",
   "execution_count": 2,
   "metadata": {
    "collapsed": true
   },
   "outputs": [],
   "source": [
    "import pandas as pd\n",
    "from ipywidgets import widgets\n",
    "from IPython.display import display, Audio\n",
    "from IPython.core.display import display, HTML\n",
    "from evaluation_load import load_interface1, load_interface2, search_sounds_and_show_results, load_personal, load_questions"
   ]
  },
  {
   "cell_type": "markdown",
   "metadata": {},
   "source": [
    "# INSTRUCTIONS"
   ]
  },
  {
   "cell_type": "markdown",
   "metadata": {},
   "source": [
    "Go on by clicking on \"Run cell\" button (above us). DO NOT click again on \"Run cell\" button unless you have gone to next cell. Please, in order to continue with the questionarie, click manually on next cell and then click on \"Run cell\" button."
   ]
  },
  {
   "cell_type": "markdown",
   "metadata": {},
   "source": [
    "Definitions:\n",
    "- Brightness: indicator of the amount of high-frequency content in a sound.\n",
    "- Hardness: forcefulness of a sound's attack.\n",
    "- Depth (as a timbral attribute): emphasis on low-frequency content. \n",
    "- Roughness: regulation of pleasantness of a sound (sensory dissonance)."
   ]
  },
  {
   "cell_type": "markdown",
   "metadata": {},
   "source": [
    "# DRUM RETRIEVAL INTERFACE"
   ]
  },
  {
   "cell_type": "markdown",
   "metadata": {},
   "source": [
    "DISPLAY PRELIMINARY INTERFACE. CHOOSE INSTRUMENT AND CATEGORY CLASSES AND AS MANY HIGH-LEVEL DESCRIPTORS AS YOU WANT."
   ]
  },
  {
   "cell_type": "code",
   "execution_count": 3,
   "metadata": {},
   "outputs": [
    {
     "data": {
      "application/vnd.jupyter.widget-view+json": {
       "model_id": "ad5260b485dd4b6bb067f6973a8dde89"
      }
     },
     "metadata": {},
     "output_type": "display_data"
    },
    {
     "data": {
      "application/vnd.jupyter.widget-view+json": {
       "model_id": "9a2d45259c0b4efea8e942cf7b35ce12"
      }
     },
     "metadata": {},
     "output_type": "display_data"
    },
    {
     "data": {
      "application/vnd.jupyter.widget-view+json": {
       "model_id": "e5cae11f08714b82bc8bcbcdc8608076"
      }
     },
     "metadata": {},
     "output_type": "display_data"
    },
    {
     "data": {
      "application/vnd.jupyter.widget-view+json": {
       "model_id": "aad26f08db8740dba75cda7f5f34ed72"
      }
     },
     "metadata": {},
     "output_type": "display_data"
    },
    {
     "data": {
      "application/vnd.jupyter.widget-view+json": {
       "model_id": "11c354a6ea2f44fb9c31c8660bf6230c"
      }
     },
     "metadata": {},
     "output_type": "display_data"
    },
    {
     "data": {
      "application/vnd.jupyter.widget-view+json": {
       "model_id": "725da54ae6604b01a39683b7d7b8978b"
      }
     },
     "metadata": {},
     "output_type": "display_data"
    },
    {
     "data": {
      "application/vnd.jupyter.widget-view+json": {
       "model_id": "bd0340014aba4aee99e813a9acd82630"
      }
     },
     "metadata": {},
     "output_type": "display_data"
    },
    {
     "data": {
      "application/vnd.jupyter.widget-view+json": {
       "model_id": "08242bdd33194b3a873ce2c3deac5bee"
      }
     },
     "metadata": {},
     "output_type": "display_data"
    },
    {
     "data": {
      "application/vnd.jupyter.widget-view+json": {
       "model_id": "3c4e78be512649d2b6a87feb7117625d"
      }
     },
     "metadata": {},
     "output_type": "display_data"
    }
   ],
   "source": [
    "instrument, category, accordion = load_interface1()\n",
    "check1, slider1, check2, slider2, check3, slider3, check4, slider4 = load_interface2()\n",
    "display(accordion)\n",
    "display(check1,slider1)\n",
    "display(check2,slider2)\n",
    "display(check3,slider3)\n",
    "display(check4,slider4)"
   ]
  },
  {
   "cell_type": "markdown",
   "metadata": {},
   "source": [
    "DISPLAY RETRIEVED DRUM SAMPLE."
   ]
  },
  {
   "cell_type": "code",
   "execution_count": 4,
   "metadata": {},
   "outputs": [
    {
     "name": "stdout",
     "output_type": "stream",
     "text": [
      "Retrieved sound ID:  34830\n"
     ]
    },
    {
     "data": {
      "application/vnd.jupyter.widget-view+json": {
       "model_id": "4939ce65a6ff49baa3fb2af7e803d23f"
      }
     },
     "metadata": {},
     "output_type": "display_data"
    }
   ],
   "source": [
    "search_sounds_and_show_results(instrument, category, check1, slider1, check2, slider2, check3, slider3, check4, slider4)"
   ]
  },
  {
   "cell_type": "markdown",
   "metadata": {},
   "source": [
    "# EVALUATION"
   ]
  },
  {
   "cell_type": "markdown",
   "metadata": {},
   "source": [
    "WRITE YOUR NAME AND SELECT YOUR MUSICAL EXPERIENCE"
   ]
  },
  {
   "cell_type": "code",
   "execution_count": 5,
   "metadata": {},
   "outputs": [
    {
     "data": {
      "application/vnd.jupyter.widget-view+json": {
       "model_id": "9ae0081517624c818f72004e41a5c512"
      }
     },
     "metadata": {},
     "output_type": "display_data"
    },
    {
     "data": {
      "application/vnd.jupyter.widget-view+json": {
       "model_id": "5e2be98cf2b7441eb538340eba31557e"
      }
     },
     "metadata": {},
     "output_type": "display_data"
    },
    {
     "data": {
      "application/vnd.jupyter.widget-view+json": {
       "model_id": "aadca397033e480e9204ad135ab0d54c"
      }
     },
     "metadata": {},
     "output_type": "display_data"
    }
   ],
   "source": [
    "name,exp,exp2 = load_personal()\n",
    "display(name,exp,exp2)"
   ]
  },
  {
   "cell_type": "markdown",
   "metadata": {},
   "source": [
    "ANSWER THE FOLLOWING QUESTIONS:"
   ]
  },
  {
   "cell_type": "code",
   "execution_count": 6,
   "metadata": {},
   "outputs": [
    {
     "name": "stdout",
     "output_type": "stream",
     "text": [
      "Does the retrieved sample really correspond to the expected drum instrument class?\n"
     ]
    },
    {
     "data": {
      "application/vnd.jupyter.widget-view+json": {
       "model_id": "5cee14f4f7c647cb9cf975f25cac44d1"
      }
     },
     "metadata": {},
     "output_type": "display_data"
    }
   ],
   "source": [
    "response1, response2, response3 = load_questions()\n",
    "print \"Does the retrieved sample really correspond to the expected drum instrument class?\"\n",
    "display(response1)"
   ]
  },
  {
   "cell_type": "code",
   "execution_count": 7,
   "metadata": {},
   "outputs": [
    {
     "name": "stdout",
     "output_type": "stream",
     "text": [
      "Does the retrieved sample really correspond to the expected drum category class?\n"
     ]
    },
    {
     "data": {
      "application/vnd.jupyter.widget-view+json": {
       "model_id": "ab90ccb89cd444ff9761924c24b26e40"
      }
     },
     "metadata": {},
     "output_type": "display_data"
    }
   ],
   "source": [
    "print \"Does the retrieved sample really correspond to the expected drum category class?\"\n",
    "display(response2)"
   ]
  },
  {
   "cell_type": "code",
   "execution_count": 8,
   "metadata": {},
   "outputs": [
    {
     "name": "stdout",
     "output_type": "stream",
     "text": [
      "Select how you think the system has interpreted your selection based on High-Level Descriptors.\n"
     ]
    },
    {
     "data": {
      "application/vnd.jupyter.widget-view+json": {
       "model_id": "7b1b2eb64e7e47ee91e91e8fcb49cf77"
      }
     },
     "metadata": {},
     "output_type": "display_data"
    }
   ],
   "source": [
    "print \"Select how you think the system has interpreted your selection based on High-Level Descriptors.\"\n",
    "display(response3)"
   ]
  },
  {
   "cell_type": "markdown",
   "metadata": {},
   "source": [
    "GATHER ANSWERS INFORMATION."
   ]
  },
  {
   "cell_type": "code",
   "execution_count": 9,
   "metadata": {},
   "outputs": [
    {
     "name": "stdout",
     "output_type": "stream",
     "text": [
      "User name: Name and Surname \n",
      "Musical experience as: None \n",
      "Years of experience: None \n",
      "\n",
      "Instrument: kick \n",
      "Category: acoustic \n",
      "\n",
      "Brightness: NaN \n",
      "Depth: NaN \n",
      "Hardness:  NaN \n",
      "Roughness: NaN \n",
      "\n",
      "Correct instrument? NO \n",
      "Correct category? NO \n",
      "High-level descriptors? BAD \n",
      "\n"
     ]
    }
   ],
   "source": [
    "if check1.value is True:\n",
    "    bright = slider1.value\n",
    "else:\n",
    "    bright = 'NaN'\n",
    "if check2.value is True:\n",
    "    depth = slider2.value\n",
    "else:\n",
    "    depth = 'NaN'\n",
    "if check3.value is True:\n",
    "    hard = slider3.value\n",
    "else:\n",
    "    hard = 'NaN'\n",
    "if check4.value is True:\n",
    "    rough = slider4.value\n",
    "else:\n",
    "    rough = 'NaN'\n",
    "print \"User name: \" + name.value, \"\\n\", \"Musical experience as: \" + exp.value[0], \"\\n\", \"Years of experience: \" + exp2.value[0], \"\\n\"\n",
    "print \"Instrument: \" + instrument.value, \"\\n\", \"Category: \" + category.value, \"\\n\"\n",
    "print \"Brightness: \" + str(bright), \"\\n\", \"Depth: \" + str(depth), \"\\n\", \"Hardness:  \" + str(hard), \"\\n\", \"Roughness: \" + str(rough), \"\\n\"\n",
    "print \"Correct instrument? \" + response1.value, \"\\n\", \"Correct category? \" + response2.value, \"\\n\", \"High-level descriptors? \"+response3.value, \"\\n\""
   ]
  },
  {
   "cell_type": "markdown",
   "metadata": {},
   "source": [
    "ADD TO CSV."
   ]
  },
  {
   "cell_type": "code",
   "execution_count": 9,
   "metadata": {},
   "outputs": [
    {
     "data": {
      "text/html": [
       "<div>\n",
       "<style>\n",
       "    .dataframe thead tr:only-child th {\n",
       "        text-align: right;\n",
       "    }\n",
       "\n",
       "    .dataframe thead th {\n",
       "        text-align: left;\n",
       "    }\n",
       "\n",
       "    .dataframe tbody tr th {\n",
       "        vertical-align: top;\n",
       "    }\n",
       "</style>\n",
       "<table border=\"1\" class=\"dataframe\">\n",
       "  <thead>\n",
       "    <tr style=\"text-align: right;\">\n",
       "      <th></th>\n",
       "      <th>name</th>\n",
       "      <th>experience</th>\n",
       "      <th>years</th>\n",
       "      <th>instrument</th>\n",
       "      <th>category</th>\n",
       "      <th>brightness</th>\n",
       "      <th>depth</th>\n",
       "      <th>hardness</th>\n",
       "      <th>roughness</th>\n",
       "      <th>response1</th>\n",
       "      <th>response2</th>\n",
       "      <th>response3</th>\n",
       "    </tr>\n",
       "  </thead>\n",
       "  <tbody>\n",
       "    <tr>\n",
       "      <th>0</th>\n",
       "      <td>Example</td>\n",
       "      <td>Drummer</td>\n",
       "      <td>More than 5 years</td>\n",
       "      <td>kick</td>\n",
       "      <td>acoustic</td>\n",
       "      <td>NaN</td>\n",
       "      <td>0.8</td>\n",
       "      <td>NaN</td>\n",
       "      <td>NaN</td>\n",
       "      <td>YES</td>\n",
       "      <td>YES</td>\n",
       "      <td>GOOD</td>\n",
       "    </tr>\n",
       "    <tr>\n",
       "      <th>1</th>\n",
       "      <td>Name and Surname</td>\n",
       "      <td>None</td>\n",
       "      <td>None</td>\n",
       "      <td>kick</td>\n",
       "      <td>acoustic</td>\n",
       "      <td>NaN</td>\n",
       "      <td>NaN</td>\n",
       "      <td>NaN</td>\n",
       "      <td>NaN</td>\n",
       "      <td>NO</td>\n",
       "      <td>NO</td>\n",
       "      <td>BAD</td>\n",
       "    </tr>\n",
       "  </tbody>\n",
       "</table>\n",
       "</div>"
      ],
      "text/plain": [
       "               name experience              years instrument  category  \\\n",
       "0           Example    Drummer  More than 5 years       kick  acoustic   \n",
       "1  Name and Surname       None               None       kick  acoustic   \n",
       "\n",
       "  brightness depth hardness roughness response1 response2 response3  \n",
       "0        NaN   0.8      NaN       NaN       YES       YES      GOOD  \n",
       "1        NaN   NaN      NaN       NaN        NO        NO       BAD  "
      ]
     },
     "execution_count": 9,
     "metadata": {},
     "output_type": "execute_result"
    }
   ],
   "source": [
    "df = pd.read_csv('test.csv',index_col=0)\n",
    "d = [name.value,exp.value[0],exp2.value[0],instrument.value,category.value,bright,depth,hard,rough,response1.value,response2.value,response3.value]\n",
    "df.loc[len(df)] = [d[n] for n in range(len(df.columns))]\n",
    "df.to_csv('test.csv')\n",
    "df"
   ]
  },
  {
   "cell_type": "markdown",
   "metadata": {},
   "source": [
    "RESET VARIABLES AND START AGAIN TO EVALUATE A NEW DRUM SAMPLE."
   ]
  },
  {
   "cell_type": "code",
   "execution_count": null,
   "metadata": {
    "collapsed": true
   },
   "outputs": [],
   "source": [
    "%reset"
   ]
  },
  {
   "cell_type": "markdown",
   "metadata": {
    "collapsed": true
   },
   "source": [
    "# END"
   ]
  },
  {
   "cell_type": "code",
   "execution_count": null,
   "metadata": {
    "collapsed": true
   },
   "outputs": [],
   "source": []
  }
 ],
 "metadata": {
  "kernelspec": {
   "display_name": "Python 2",
   "language": "python",
   "name": "python2"
  },
  "language_info": {
   "codemirror_mode": {
    "name": "ipython",
    "version": 2
   },
   "file_extension": ".py",
   "mimetype": "text/x-python",
   "name": "python",
   "nbconvert_exporter": "python",
   "pygments_lexer": "ipython2",
   "version": "2.7.13"
  }
 },
 "nbformat": 4,
 "nbformat_minor": 2
}
